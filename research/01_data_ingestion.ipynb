{
 "cells": [
  {
   "cell_type": "code",
   "execution_count": 4,
   "metadata": {},
   "outputs": [],
   "source": [
    "import os"
   ]
  },
  {
   "cell_type": "code",
   "execution_count": 5,
   "metadata": {},
   "outputs": [
    {
     "data": {
      "text/plain": [
       "'c:\\\\Users\\\\1.1\\\\Desktop\\\\Projects\\\\ML_projects\\\\Text-Summarizer-NLP-\\\\research'"
      ]
     },
     "execution_count": 5,
     "metadata": {},
     "output_type": "execute_result"
    }
   ],
   "source": [
    "%pwd"
   ]
  },
  {
   "cell_type": "code",
   "execution_count": 6,
   "metadata": {},
   "outputs": [],
   "source": [
    "os.chdir(\"../\")"
   ]
  },
  {
   "cell_type": "code",
   "execution_count": 7,
   "metadata": {},
   "outputs": [],
   "source": [
    "from dataclasses import dataclass\n",
    "from pathlib import Path\n",
    "\n",
    "@dataclass(frozen=True)\n",
    "class DataIngestionConfig:\n",
    "    root_dir: Path\n",
    "    source_URL: str\n",
    "    local_data_file: Path\n",
    "    unzip_dir: Path"
   ]
  },
  {
   "cell_type": "code",
   "execution_count": 8,
   "metadata": {},
   "outputs": [
    {
     "name": "stdout",
     "output_type": "stream",
     "text": [
      "Obtaining file:///C:/Users/1.1/Desktop/Projects/ML_projects/Text-Summarizer-NLP-\n",
      "  Preparing metadata (setup.py): started\n",
      "  Preparing metadata (setup.py): finished with status 'done'\n",
      "Installing collected packages: textSummarizer\n",
      "  Attempting uninstall: textSummarizer\n",
      "    Found existing installation: textSummarizer 0.0.0\n",
      "    Uninstalling textSummarizer-0.0.0:\n",
      "      Successfully uninstalled textSummarizer-0.0.0\n",
      "  Running setup.py develop for textSummarizer\n",
      "Successfully installed textSummarizer\n"
     ]
    },
    {
     "name": "stderr",
     "output_type": "stream",
     "text": [
      "  DEPRECATION: Legacy editable install of textSummarizer==0.0.0 from file:///C:/Users/1.1/Desktop/Projects/ML_projects/Text-Summarizer-NLP- (setup.py develop) is deprecated. pip 25.0 will enforce this behaviour change. A possible replacement is to add a pyproject.toml or enable --use-pep517, and use setuptools >= 64. If the resulting installation is not behaving as expected, try using --config-settings editable_mode=compat. Please consult the setuptools documentation for more information. Discussion can be found at https://github.com/pypa/pip/issues/11457\n"
     ]
    }
   ],
   "source": [
    "!pip install -e C:/Users/1.1/Desktop/Projects/ML_projects/Text-Summarizer-NLP-\n"
   ]
  },
  {
   "cell_type": "code",
   "execution_count": 9,
   "metadata": {},
   "outputs": [],
   "source": [
    "from textSummarizer.constants import *\n",
    "from textSummarizer.utils.common import read_yaml, create_directories\n"
   ]
  },
  {
   "cell_type": "code",
   "execution_count": 10,
   "metadata": {},
   "outputs": [
    {
     "name": "stdout",
     "output_type": "stream",
     "text": [
      "Package            Version Editable project location\n",
      "------------------ ------- ------------------------------------------------------------------\n",
      "aiohappyeyeballs   2.4.4\n",
      "aiohttp            3.10.11\n",
      "aiosignal          1.3.1\n",
      "asttokens          3.0.0\n",
      "async-timeout      5.0.1\n",
      "attrs              24.3.0\n",
      "backcall           0.2.0\n",
      "box                0.1.5\n",
      "colorama           0.4.6\n",
      "Columnar           1.3.1\n",
      "comm               0.2.2\n",
      "debugpy            1.8.5\n",
      "decorator          5.1.1\n",
      "ensure             1.0.4\n",
      "executing          0.8.2\n",
      "frozenlist         1.5.0\n",
      "idna               3.10\n",
      "importlib_metadata 8.5.0\n",
      "ipykernel          6.29.5\n",
      "ipython            8.12.2\n",
      "jedi               0.19.1\n",
      "jupyter_client     8.6.3\n",
      "jupyter_core       5.7.2\n",
      "loguru             0.7.3\n",
      "matplotlib-inline  0.1.7\n",
      "multidict          6.1.0\n",
      "nest_asyncio       1.6.0\n",
      "packaging          24.2\n",
      "parso              0.8.4\n",
      "pickleshare        0.7.5\n",
      "pip                24.2\n",
      "platformdirs       4.3.6\n",
      "prompt_toolkit     3.0.48\n",
      "propcache          0.2.0\n",
      "psutil             6.0.0\n",
      "pure_eval          0.2.3\n",
      "Pygments           2.18.0\n",
      "python-box         7.2.0\n",
      "python-dateutil    2.8.2\n",
      "pywin32            306\n",
      "PyYAML             6.0.2\n",
      "pyzmq              26.2.0\n",
      "setuptools         75.3.0\n",
      "six                1.16.0\n",
      "stack-data         0.6.2\n",
      "textSummarizer     0.0.0   c:\\users\\1.1\\desktop\\projects\\ml_projects\\text-summarizer-nlp-\\src\n",
      "timeago            1.0.14\n",
      "toolz              1.0.0\n",
      "tornado            6.4.1\n",
      "traitlets          5.14.3\n",
      "typing_extensions  4.12.2\n",
      "wcwidth            0.2.13\n",
      "wheel              0.44.0\n",
      "win32_setctime     1.2.0\n",
      "yarl               1.15.2\n",
      "zipp               3.21.0\n"
     ]
    }
   ],
   "source": [
    "!pip list\n"
   ]
  },
  {
   "cell_type": "code",
   "execution_count": 11,
   "metadata": {},
   "outputs": [],
   "source": [
    "import sys\n",
    "sys.path.append('C:/Users/1.1/Desktop/Projects/ML_projects/Text-Summarizer-NLP-/src')\n",
    "\n",
    "# Now try the import\n",
    "from textSummarizer.constants import *\n",
    "from textSummarizer.utils.common import read_yaml, create_directories\n"
   ]
  },
  {
   "cell_type": "code",
   "execution_count": 12,
   "metadata": {},
   "outputs": [],
   "source": [
    "class ConfigurationManager:\n",
    "    def __init__(\n",
    "        self,\n",
    "        config_filepath = CONFIG_FILE_PATH,\n",
    "        params_filepath = PARAMS_FILE_PATH):\n",
    "\n",
    "        self.config = read_yaml(config_filepath)\n",
    "        self.params = read_yaml(params_filepath)\n",
    "\n",
    "        create_directories([self.config.artifacts_root])\n",
    "\n",
    "    \n",
    "\n",
    "    def get_data_ingestion_config(self) -> DataIngestionConfig:\n",
    "        config = self.config.data_ingestion\n",
    "\n",
    "        create_directories([config.root_dir])\n",
    "\n",
    "        data_ingestion_config = DataIngestionConfig(\n",
    "            root_dir=config.root_dir,\n",
    "            source_URL=config.source_URL,\n",
    "            local_data_file=config.local_data_file,\n",
    "            unzip_dir=config.unzip_dir \n",
    "        )\n",
    "\n",
    "        return data_ingestion_config"
   ]
  },
  {
   "cell_type": "code",
   "execution_count": 13,
   "metadata": {},
   "outputs": [],
   "source": [
    "import os\n",
    "import urllib.request as request\n",
    "import zipfile\n",
    "from textSummarizer.logging import logger\n",
    "from textSummarizer.utils.common import get_size"
   ]
  },
  {
   "cell_type": "code",
   "execution_count": 14,
   "metadata": {},
   "outputs": [],
   "source": [
    "class DataIngestion:\n",
    "    def __init__(self, config: DataIngestionConfig):\n",
    "        self.config = config\n",
    "\n",
    "\n",
    "    \n",
    "    def download_file(self):\n",
    "        if not os.path.exists(self.config.local_data_file):\n",
    "            filename, headers = request.urlretrieve(\n",
    "                url = self.config.source_URL,\n",
    "                filename = self.config.local_data_file\n",
    "            )\n",
    "            logger.info(f\"{filename} download! with following info: \\n{headers}\")\n",
    "        else:\n",
    "            logger.info(f\"File already exists of size: {get_size(Path(self.config.local_data_file))}\")  \n",
    "\n",
    "        \n",
    "    \n",
    "    def extract_zip_file(self):\n",
    "        \"\"\"\n",
    "        zip_file_path: str\n",
    "        Extracts the zip file into the data directory\n",
    "        Function returns None\n",
    "        \"\"\"\n",
    "        unzip_path = self.config.unzip_dir\n",
    "        os.makedirs(unzip_path, exist_ok=True)\n",
    "        with zipfile.ZipFile(self.config.local_data_file, 'r') as zip_ref:\n",
    "            zip_ref.extractall(unzip_path)"
   ]
  },
  {
   "cell_type": "code",
   "execution_count": 15,
   "metadata": {},
   "outputs": [
    {
     "data": {
      "text/plain": [
       "__main__.ConfigurationManager"
      ]
     },
     "execution_count": 15,
     "metadata": {},
     "output_type": "execute_result"
    }
   ],
   "source": [
    "ConfigurationManager"
   ]
  },
  {
   "cell_type": "code",
   "execution_count": 16,
   "metadata": {},
   "outputs": [
    {
     "name": "stdout",
     "output_type": "stream",
     "text": [
      "[2025-01-11 18:25:46,503: INFO: common: yaml file: config\\config.yaml loaded successfully]\n",
      "[2025-01-11 18:25:46,510: INFO: common: yaml file: params.yaml loaded successfully]\n",
      "[2025-01-11 18:25:46,513: INFO: common: created directory at: artifacts]\n",
      "[2025-01-11 18:25:46,517: INFO: common: created directory at: artifacts/data_ingestion]\n",
      "[2025-01-11 18:25:49,236: INFO: 1434958058: artifacts/data_ingestion/data.zip download! with following info: \n",
      "Connection: close\n",
      "Content-Length: 7903594\n",
      "Cache-Control: max-age=300\n",
      "Content-Security-Policy: default-src 'none'; style-src 'unsafe-inline'; sandbox\n",
      "Content-Type: application/zip\n",
      "ETag: \"dbc016a060da18070593b83afff580c9b300f0b6ea4147a7988433e04df246ca\"\n",
      "Strict-Transport-Security: max-age=31536000\n",
      "X-Content-Type-Options: nosniff\n",
      "X-Frame-Options: deny\n",
      "X-XSS-Protection: 1; mode=block\n",
      "X-GitHub-Request-Id: C947:145949:1D07A1:2B5FF3:67826AE1\n",
      "Accept-Ranges: bytes\n",
      "Date: Sat, 11 Jan 2025 12:58:10 GMT\n",
      "Via: 1.1 varnish\n",
      "X-Served-By: cache-del21749-DEL\n",
      "X-Cache: MISS\n",
      "X-Cache-Hits: 0\n",
      "X-Timer: S1736600290.013686,VS0,VE846\n",
      "Vary: Authorization,Accept-Encoding,Origin\n",
      "Access-Control-Allow-Origin: *\n",
      "Cross-Origin-Resource-Policy: cross-origin\n",
      "X-Fastly-Request-ID: 781f483c1e41a3864207a54a4144186062abb4c3\n",
      "Expires: Sat, 11 Jan 2025 13:03:10 GMT\n",
      "Source-Age: 1\n",
      "\n",
      "]\n"
     ]
    }
   ],
   "source": [
    "try:\n",
    "    config = ConfigurationManager()\n",
    "    data_ingestion_config = config.get_data_ingestion_config()\n",
    "    data_ingestion = DataIngestion(config=data_ingestion_config)\n",
    "    data_ingestion.download_file()\n",
    "    data_ingestion.extract_zip_file()\n",
    "except Exception as e:\n",
    "    raise e\n"
   ]
  }
 ],
 "metadata": {
  "kernelspec": {
   "display_name": "textS",
   "language": "python",
   "name": "python3"
  },
  "language_info": {
   "codemirror_mode": {
    "name": "ipython",
    "version": 3
   },
   "file_extension": ".py",
   "mimetype": "text/x-python",
   "name": "python",
   "nbconvert_exporter": "python",
   "pygments_lexer": "ipython3",
   "version": "3.8.20"
  }
 },
 "nbformat": 4,
 "nbformat_minor": 2
}
